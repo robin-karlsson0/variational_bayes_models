{
 "cells": [
  {
   "cell_type": "markdown",
   "metadata": {},
   "source": [
    "# Variational Logistic Regression\n",
    "\n",
    "This notebook shows how to implement the variational logistic regression model according to the derivation in PRML.\n",
    "\n",
    "Application of the model is demonstrated using the same linearly separable clusters of Gaussian distrbutions points."
   ]
  },
  {
   "cell_type": "code",
   "execution_count": 1,
   "metadata": {},
   "outputs": [],
   "source": [
    "import numpy as np\n",
    "from scipy.special import expit\n",
    "import matplotlib.pyplot as plt\n",
    "\n",
    "np.random.seed(seed=0)"
   ]
  },
  {
   "cell_type": "markdown",
   "metadata": {},
   "source": [
    "# Data\n",
    "\n",
    "Linearly separable dataset consisting of datapoints generated from two Gaussian distributions."
   ]
  },
  {
   "cell_type": "code",
   "execution_count": 2,
   "metadata": {},
   "outputs": [
    {
     "data": {
      "image/png": "[encoded data removed]",
      "text/plain": [
       "<Figure size 432x288 with 1 Axes>"
      ]
     },
     "metadata": {
      "needs_background": "light"
     },
     "output_type": "display_data"
    }
   ],
   "source": [
    "mean_1 = [-6, 3]\n",
    "cov_1 = [[1,0.5],[0.5,3]]\n",
    "gaussian_1 = np.random.multivariate_normal(mean_1, cov_1, 50)\n",
    "\n",
    "mean_2 = [6, -3]\n",
    "cov_2 = [[1,0.5],[0.5,3]]\n",
    "gaussian_2 = np.random.multivariate_normal(mean_2, cov_2, 50)\n",
    "\n",
    "plt.scatter(gaussian_1[:,0], gaussian_1[:,1])\n",
    "plt.scatter(gaussian_2[:,0], gaussian_2[:,1])\n",
    "plt.xlim(-10,10)\n",
    "plt.ylim(-10,10)\n",
    "plt.gca().set_aspect('equal', adjustable='box')\n",
    "plt.show()"
   ]
  },
  {
   "cell_type": "markdown",
   "metadata": {},
   "source": [
    "### Sort data into labeled dataset\n",
    "\n",
    "The dataset is represented as an (N,2) array with each row $n$ corresponding to input variable vector $x^{(n)} = (x^{(n)}_1, x^{(n)}_2)$.\n",
    "\n",
    "<table style=\"border:1\">\n",
    "    <tr>\n",
    "        <td>$x^{(1)}_1$</td>\n",
    "        <td>$x^{(1)}_2$</td>\n",
    "    </tr>\n",
    "    <tr>\n",
    "        <td>$x^{(2)}_1$</td>\n",
    "        <td>$x^{(2)}_2$</td>\n",
    "    </tr>\n",
    "        <tr>\n",
    "        <td>$\\dots$</td>\n",
    "        <td>$\\dots$</td>\n",
    "    </tr>\n",
    "    <tr>\n",
    "        <td>$x^{(N)}_1$</td>\n",
    "        <td>$x^{(N)}_2$</td>\n",
    "    </tr>\n",
    "</table>"
   ]
  },
  {
   "cell_type": "code",
   "execution_count": 3,
   "metadata": {},
   "outputs": [],
   "source": [
    "data_1 = np.zeros((gaussian_1.shape[0], 3))\n",
    "data_1[:,0:2] = gaussian_1\n",
    "\n",
    "data_2 = np.ones((gaussian_2.shape[0], 3))\n",
    "data_2[:,0:2] = gaussian_2"
   ]
  },
  {
   "cell_type": "code",
   "execution_count": 4,
   "metadata": {},
   "outputs": [],
   "source": [
    "# Dataset is stored as a (N,2) array\n",
    "dataset = np.vstack((data_1, data_2))\n",
    "dataset = np.random.permutation(dataset)\n",
    "\n",
    "# Number of samples\n",
    "N = dataset.shape[0]"
   ]
  },
  {
   "cell_type": "markdown",
   "metadata": {},
   "source": [
    "### Linear basis function model\n",
    "\n",
    "Applying a fixed nonlinear transformation on the input variable vectors $x$ to generate feature vectors $\\phi$, allowing the model to consider linear combinations of fixed nonlinear functions of the input variables.\n",
    "\n",
    "$\\phi^{(n)} = (\\phi_1(x^{(n)}), \\dots, \\phi_N(x^{(n)})), \\:\\:\\: where \\: \\phi_j = f(x)$\n",
    "\n",
    "The dataset features are represented as an (I,N) array with with each column $n$ corresponding to a feature vector $\\phi^{(n)}$.\n",
    "\n",
    "<table style=\"border:1\">\n",
    "    <tr>\n",
    "        <td>$\\phi^{(1)}_1$</td>\n",
    "        <td>$\\phi^{(2)}_1$</td>\n",
    "        <td>$\\dots$</td>\n",
    "        <td>$\\phi^{(N)}_1$</td>\n",
    "    </tr>\n",
    "    <tr>\n",
    "        <td>$\\phi^{(1)}_2$</td>\n",
    "        <td>$\\phi^{(2)}_2$</td>\n",
    "        <td>$\\dots$</td>\n",
    "        <td>$\\phi^{(N)}_2$</td>\n",
    "    </tr>\n",
    "    <tr>\n",
    "        <td>$\\dots$</td>\n",
    "        <td>$\\dots$</td>\n",
    "        <td>$\\dots$</td>\n",
    "        <td>$\\dots$</td>\n",
    "    </tr>\n",
    "    <tr>\n",
    "        <td>$\\phi^{(1)}_I$</td>\n",
    "        <td>$\\phi^{(2)}_I$</td>\n",
    "        <td>$\\dots$</td>\n",
    "        <td>$\\phi^{(N)}_I$</td>\n",
    "    </tr>\n",
    "</table>"
   ]
  },
  {
   "cell_type": "code",
   "execution_count": 5,
   "metadata": {},
   "outputs": [],
   "source": [
    "def input2feature(input_vec, normalization_const=5.0):\n",
    "    '''\n",
    "    Args:\n",
    "        input_vec: Input vector of shape (1,2)\n",
    "        \n",
    "    Returns:\n",
    "        feat_vec: Feature vector of shape(6,1)\n",
    "    '''\n",
    "    \n",
    "    input_vec = np.array(input_vec) / normalization_const\n",
    "    \n",
    "    feat_vec = np.zeros((6,1))\n",
    "    \n",
    "    feat_vec[0,0] = input_vec[0]\n",
    "    feat_vec[1,0] = input_vec[0]**2\n",
    "    feat_vec[2,0] = input_vec[1]\n",
    "    feat_vec[3,0] = input_vec[1]**2\n",
    "    feat_vec[4,0] = input_vec[0] * input_vec[1]\n",
    "    feat_vec[5,0] = 1.0\n",
    "    \n",
    "    return feat_vec"
   ]
  },
  {
   "cell_type": "code",
   "execution_count": 6,
   "metadata": {},
   "outputs": [],
   "source": [
    "phis = np.zeros((6, N))\n",
    "\n",
    "for n in range(N):\n",
    "    phis[:,n:n+1] =input2feature(dataset[n,:])\n",
    "\n",
    "# Number of features\n",
    "D = phis.shape[0]\n",
    "\n",
    "ts = np.zeros((1,N))\n",
    "ts[0,:] = dataset[:,2]"
   ]
  },
  {
   "cell_type": "markdown",
   "metadata": {},
   "source": [
    "### Labels\n",
    "\n",
    "Stored as an (1,N) array with each column $n$ corresponding to label $t$ of example $n$.\n",
    "\n",
    "<table style=\"border:1\">\n",
    "    <tr>\n",
    "        <td>$t^{(1)}$</td>\n",
    "        <td>$t^{(2)}$</td>\n",
    "        <td>$\\dots$</td>\n",
    "        <td>$t^{(N)}$</td>\n",
    "    </tr>\n",
    "</table>"
   ]
  },
  {
   "cell_type": "markdown",
   "metadata": {},
   "source": [
    "### Summary of data"
   ]
  },
  {
   "cell_type": "code",
   "execution_count": 7,
   "metadata": {},
   "outputs": [
    {
     "name": "stdout",
     "output_type": "stream",
     "text": [
      "Feature array 'phis' : (6, 100)\n",
      "Label array 'ts'     : (1, 100)\n",
      "    #Samples  : 6\n",
      "    #Features : 6\n"
     ]
    }
   ],
   "source": [
    "print(f\"Feature array 'phis' : {phis.shape}\")\n",
    "print(f\"Label array 'ts'     : {ts.shape}\")\n",
    "print(f\"    #Samples  : {D}\")\n",
    "print(f\"    #Features : {D}\")"
   ]
  },
  {
   "cell_type": "markdown",
   "metadata": {},
   "source": [
    "# What is this local variational inference functional again?"
   ]
  },
  {
   "cell_type": "code",
   "execution_count": 8,
   "metadata": {},
   "outputs": [],
   "source": [
    "def lambda_func(xi):\n",
    "    return (expit(xi) - 0.5) / (2*xi + 1e-24)"
   ]
  },
  {
   "cell_type": "markdown",
   "metadata": {},
   "source": [
    "# Expectations"
   ]
  },
  {
   "cell_type": "code",
   "execution_count": 9,
   "metadata": {},
   "outputs": [],
   "source": [
    "def gamma_expectation(a_N, b_N):\n",
    "    '''Returns the expected value of a Gamma distribution defined by parameters 'a_N' and 'b_N'.\n",
    "    \n",
    "    Ref: Bishop Eq 10.182 (p.505)\n",
    "    '''\n",
    "    return a_N / b_N\n",
    "\n",
    "\n",
    "def gaussian_quadratic_expectation_wrt_w(mu_N, sigma_N):\n",
    "    '''Returns the expected value of the quadratic weight vectors for a Gaussian distribution w.r.t. weights.\n",
    "    \n",
    "    Because we are taking the expectations w.r.t. weights, other unrelated terms can be dropped from the general expectation.\n",
    "    \n",
    "    Ref: Bishop Eq 10.183 (p.505)\n",
    "    '''\n",
    "    return np.matmul(mu_N.T, mu_N) + np.trace(sigma_N)"
   ]
  },
  {
   "cell_type": "markdown",
   "metadata": {},
   "source": [
    "# Maximization (re-estimation) equations"
   ]
  },
  {
   "cell_type": "code",
   "execution_count": 10,
   "metadata": {},
   "outputs": [],
   "source": [
    "#######################################################\n",
    "#  Distribution 'q(w) = Gaussian(w | mu_N, sigma_N)'\n",
    "#######################################################\n",
    "\n",
    "def maximization_mu(phis, ts, sigma_N):\n",
    "    '''Maximizes the weight vector distribution 'q(w)' w.r.t. mean vector.\n",
    "    \n",
    "    Args:\n",
    "        phis:   : Feature matrix of shape (D,N)\n",
    "        ts      : Label vector of shape (1,N)\n",
    "        sigma_N : Covariance matrix for 'q(w)' of shape (D,D)\n",
    "    \n",
    "    Returns:\n",
    "        mu_N : Vector of shape (D,1)\n",
    "    \n",
    "    Ref: Bishop Eq 10.175 (p.504)\n",
    "    '''\n",
    "    \n",
    "    # Vector container for summing individual samples\n",
    "    sample_vec_sum = np.zeros((phis.shape[0], 1))\n",
    "    \n",
    "    # Compute and sum each sample individually (TODO: vectorization)\n",
    "    for i in range(phis.shape[1]):\n",
    "        \n",
    "        # Vectors for sample 'i'\n",
    "        phi_i = phis[:,i:i+1]  # [D,1]\n",
    "        t_i = ts[:,i].item()   # scalar\n",
    "        \n",
    "        sample_vec_sum += (t_i - 0.5) * phi_i\n",
    "    \n",
    "    mu_N = np.matmul(sigma_N, sample_vec_sum)\n",
    "    \n",
    "    return mu_N\n",
    "\n",
    "\n",
    "def maximization_sigma_inv(expectation_alpha, xis, phis):\n",
    "    '''Maximizes the weight vector distribution 'q(w)' w.r.t. variance of data.\n",
    "    \n",
    "    Args:\n",
    "        expectation_alpha : Expected value of Gamma distribution modeling variance of 'q(w)'.\n",
    "        xis               : Variational variable related to the class certainty of a sample (I think).\n",
    "        phis              : Feature matrix of shape (D,N).\n",
    "        \n",
    "    Returns:\n",
    "        sigma_inv : Precision of q(w) which optimizes the approximation.\n",
    "    \n",
    "    Ref: Bishop Eq 10.176 (p.504)\n",
    "    '''\n",
    "    \n",
    "    # Vector container for summing individual samples\n",
    "    sample_vec_sum = np.zeros((D,D))\n",
    "    \n",
    "    # Compute and sum each sample individually (TODO: vectorization)\n",
    "    for i in range(phis.shape[1]):\n",
    "        \n",
    "        # Vectors for sample 'i'\n",
    "        phi_i = phis[:,i:i+1]   # [D,1]\n",
    "        xi_i = xis[:,i].item()  # scalar\n",
    "        \n",
    "        sample_vec_sum += lambda_func(xi_i) * np.matmul(phi_i, phi_i.T)\n",
    "        \n",
    "    sigma_inv = expectation_alpha * np.eye(D) + 2.0 * sample_vec_sum\n",
    "\n",
    "    return sigma_inv\n",
    "\n",
    "\n",
    "####################################################\n",
    "#  Distribution 'q(alpha) = Gam(alpha | a_N, b_N)  #\n",
    "####################################################\n",
    "\n",
    "def maximization_an(a_0, D):\n",
    "    '''Maximizes the covariance matrix 'q(alpha)' w.r.t. the 'a_N' parameter.\n",
    "    \n",
    "    Args:\n",
    "        a_0 : Value of initial variational hyperpriors.\n",
    "        D   : Number of features.\n",
    "    '''\n",
    "    return a_0 + D\n",
    "\n",
    "\n",
    "def maximization_bn(b_0, expectation_quadratic_w):\n",
    "    '''Maximizes the covariance matrix 'q(alpha)' w.r.t. the 'a_N' parameter.\n",
    "    \n",
    "    Args:\n",
    "        b_0                     : Value of initial variational hyperpriors.\n",
    "        expectation_quadratic_w : The expected value of the quadratic weight vectors for a Gaussian distribution w.r.t. weights.\n",
    "    '''\n",
    "    return b_0 + 0.5 * expectation_quadratic_w\n",
    "\n",
    "\n",
    "###############\n",
    "#  Xi update\n",
    "###############\n",
    "\n",
    "def xi_update(phi, mu_N, sigma_N):\n",
    "    '''Computes the optimal variational variable related to class certainity (I think) of one sample, according to weight distribution 'q(w)'.\n",
    "    \n",
    "    Args:\n",
    "        phi     : Sample feature vector of shape (D,1)\n",
    "        mu_N    : Mean vector for weight distribution 'q(w)' of shape (D,1)\n",
    "        sigma_N : Covariance matrix for weight distribution 'q(w)'  of shape (D,D)\n",
    "    \n",
    "    Returns : 'xi' value for one sample given 'q(w)'\n",
    "    '''\n",
    "    # xi = phi.T * (sigma_N + mu_N * mu_N.T) * phi\n",
    "    A = sigma_N + np.matmul(mu_N, mu_N.T)\n",
    "    xi = np.matmul(np.matmul(phi.T, A), phi)\n",
    "    xi = np.sqrt(xi)\n",
    "    return xi\n",
    "\n",
    "\n",
    "def xis_update(phis, mu_N, sigma_N):\n",
    "    '''Computes the optimal variational variable related to class certainity (I think) of all samples.\n",
    "    \n",
    "    Args:\n",
    "        phi     : Sample feature matrix of shape (D,N)\n",
    "        mu_N    : Mean vector for weight distribution 'q(w)' of shape (D,1)\n",
    "        sigma_N : Covariance matrix for weight distribution 'q(w)' of shape (D,D)\n",
    "    '''\n",
    "    N = phis.shape[1]\n",
    "    \n",
    "    # Vector container for storing updated 'xi' values\n",
    "    xis_new = np.zeros((1,N))\n",
    "    \n",
    "    # Compute each sample individually\n",
    "    for i in range(N):\n",
    "        \n",
    "        # Vector for sample 'i'\n",
    "        phi_i = phis[:,i:i+1]   # [D,1]\n",
    "        \n",
    "        xis_new[0,i] = xi_update(phi_i, mu_N, sigma_N)\n",
    "    \n",
    "    return xis_new"
   ]
  },
  {
   "cell_type": "markdown",
   "metadata": {},
   "source": [
    "# Expectation Maximization iteration\n",
    "\n",
    "All variational variables $\\xi$ and parameters $\\mu_N$. $\\Sigma_N$, as well as the variatioanl hyperpriors $a_0$, $b_0$, are first initialized with some random value.\n",
    "\n",
    "The EM algorithm is implemented to infer the optimal distributional parameters for $q(w)$ and $q(\\alpha)$ which maximizes the approximation of the joint distribution $p(t, x, w)$ where $(t, x)$ denotes the data.\n",
    "\n",
    "_Expectation step:_\n",
    "\n",
    "Given the current \"best estimation\" of the distributions $q(w)$ and $q(\\alpha)$, compute expectations for variables according to the distributions.\n",
    "\n",
    "_Maximization step:_\n",
    "\n",
    "Given the expectations computed in the previous step, re-optimize the parameters for the same distributions, as well as the variational variable $\\xi$."
   ]
  },
  {
   "cell_type": "code",
   "execution_count": 11,
   "metadata": {},
   "outputs": [],
   "source": [
    "def comp_lower_bound(sigma_0, sigma_N, sigma_N_inv, mu_N, xis):\n",
    "    \n",
    "    sigma_N_det = np.linalg.det(sigma_N)\n",
    "    sigma_0_det = np.linalg.det(sigma_0)\n",
    "    \n",
    "    term_1 = 0.5 * np.log(sigma_N_det / sigma_0_det)\n",
    "    \n",
    "    term_2 = 0.5 * np.matmul(mu_N.T, np.matmul(sigma_N_inv, mu_N)).item()\n",
    "    \n",
    "    term_3 = 0.0  # As mu_0 = zero vector\n",
    "    \n",
    "    term_4 = 0.\n",
    "\n",
    "    for idx in range(xis.shape[1]):\n",
    "        \n",
    "        xi = xis[0,idx]\n",
    "        term_4 += np.log(expit(xi)) - 0.5*xi - lambda_func(xi) * xi**2 \n",
    "    \n",
    "    return term_1 - term_2 + term_3 + term_4"
   ]
  },
  {
   "cell_type": "code",
   "execution_count": 12,
   "metadata": {},
   "outputs": [
    {
     "name": "stdout",
     "output_type": "stream",
     "text": [
      "iter 10 | 360.7945750774287\n",
      "iter 20 | 390.30786943448265\n",
      "iter 30 | 398.69914021284063\n",
      "iter 40 | 401.2915791987027\n",
      "iter 50 | 402.1119350687276\n",
      "iter 60 | 402.3734768158457\n",
      "iter 70 | 402.4570596883004\n",
      "iter 80 | 402.48379155993445\n",
      "iter 90 | 402.4923432358046\n",
      "iter 100 | 402.4950791939297\n",
      "iter 110 | 402.4959545402475\n",
      "iter 120 | 402.4962346025154\n",
      "iter 130 | 402.49632420721775\n",
      "iter 140 | 402.4963528758892\n",
      "iter 150 | 402.4963620483213\n",
      "iter 160 | 402.49636498300777\n",
      "iter 170 | 402.4963659219495\n",
      "iter 180 | 402.4963662223602\n",
      "iter 190 | 402.496366318476\n",
      "iter 200 | 402.4963663492275\n",
      "iter 210 | 402.49636635906694\n",
      "iter 220 | 402.49636636221504\n",
      "iter 230 | 402.496366363222\n",
      "iter 240 | 402.49636636354444\n",
      "iter 250 | 402.4963663636469\n",
      "iter 260 | 402.4963663636805\n",
      "iter 270 | 402.49636636369104\n",
      "iter 280 | 402.4963663636945\n",
      "iter 290 | 402.4963663636957\n",
      "iter 300 | 402.49636636369576\n",
      "iter 310 | 402.49636636369604\n",
      "iter 320 | 402.4963663636959\n",
      "iter 330 | 402.496366363696\n",
      "iter 340 | 402.4963663636958\n",
      "iter 350 | 402.49636636369576\n",
      "iter 360 | 402.4963663636957\n",
      "iter 370 | 402.49636636369587\n",
      "iter 380 | 402.49636636369576\n",
      "iter 390 | 402.49636636369576\n",
      "iter 400 | 402.49636636369587\n",
      "iter 410 | 402.49636636369576\n",
      "iter 420 | 402.4963663636958\n",
      "iter 430 | 402.49636636369564\n",
      "iter 440 | 402.4963663636959\n",
      "iter 450 | 402.49636636369576\n",
      "iter 460 | 402.49636636369576\n",
      "iter 470 | 402.49636636369587\n",
      "iter 480 | 402.49636636369576\n",
      "iter 490 | 402.4963663636959\n",
      "iter 500 | 402.49636636369587\n"
     ]
    }
   ],
   "source": [
    "#######################\n",
    "#  Initial variables\n",
    "#######################\n",
    "\n",
    "# Hyperpriors for Gamma distribution\n",
    "a_0 = 1.0\n",
    "b_0 = 1.0\n",
    "\n",
    "a_N = a_0\n",
    "b_N = b_0\n",
    "\n",
    "mu_N = np.random.random((D,1))\n",
    "sigma_N = np.random.random((D,D))\n",
    "\n",
    "# Sample-specific latent variables 'xi'\n",
    "xis = np.ones((1, N))\n",
    "\n",
    "for iter_idx in range(1,501):\n",
    "    \n",
    "    # Expectation step\n",
    "    expectation_alpha = gamma_expectation(a_N, b_N)                                      # scalar\n",
    "    expectation_quadratic_w_wrt_w = gaussian_quadratic_expectation_wrt_w(mu_N, sigma_N)  # scalar\n",
    "    \n",
    "    # Maximization step\n",
    "    a_N = maximization_an(a_0, D)                                               # scalar\n",
    "    b_N = maximization_bn(b_0, expectation_quadratic_w_wrt_w)                   # scalar\n",
    "    sigma_N_inv = maximization_sigma_inv(expectation_alpha, xis, phis)          # [D,D]\n",
    "    sigma_N = np.linalg.inv(sigma_N_inv)                                        # [D,D]\n",
    "    mu_N = maximization_mu(phis, ts, sigma_N)                                   # [D,1]\n",
    "    xis = xis_update(phis, mu_N, sigma_N)                                       # [1,N]\n",
    "    \n",
    "    # Compute lower bound\n",
    "    sigma_0 = expectation_alpha * np.eye(D)\n",
    "    if iter_idx % 10 == 0:\n",
    "        print(f\"iter {iter_idx} | {-comp_lower_bound(sigma_0, sigma_N, sigma_N_inv, mu_N, xis)}\")"
   ]
  },
  {
   "cell_type": "markdown",
   "metadata": {},
   "source": [
    "### Computing the predictive posterior $p(t^{new} | \\phi^{new}, \\theta)$\n",
    "\n"
   ]
  },
  {
   "cell_type": "code",
   "execution_count": 13,
   "metadata": {},
   "outputs": [],
   "source": [
    "def predictive_posterior_prob(x, mu_n, sigma_N):\n",
    "    '''Computes the probability of a new input vector 'x' belonging to class 1 using the learned variational parameters.\n",
    "    \n",
    "    Args:\n",
    "        x       : Input vector (or list) of shape (1,2)\n",
    "        mu_n    : Learned mean vector for weight distribution 'q(w)'\n",
    "        sigma_N : Learned covariance matrix for weight distribution 'q(w)'\n",
    "        \n",
    "    Ref: Bishop Eq 4.155 (p.220)\n",
    "    '''\n",
    "    phi_new =input2feature(x)\n",
    "\n",
    "    mu_a = np.matmul(mu_N.T, phi_new).item()\n",
    "    sigma_a_2 = np.matmul(np.matmul(phi_new.T, sigma_N), phi_new).item()\n",
    "\n",
    "    kappa = np.power(1.0 + np.pi/8.0 * sigma_a_2,-0.5)\n",
    "\n",
    "    p = expit(kappa*mu_a)\n",
    "    \n",
    "    return p"
   ]
  },
  {
   "cell_type": "code",
   "execution_count": 14,
   "metadata": {},
   "outputs": [],
   "source": [
    "# Compute posterior class probability over the whole input space.\n",
    "\n",
    "x = np.arange(-10, 10, 0.1)\n",
    "y = np.arange(-10, 10, 0.1)\n",
    "\n",
    "xx, yy = np.meshgrid(x, y, sparse=False)\n",
    "\n",
    "p_array = np.zeros(xx.shape)\n",
    "\n",
    "for i in range(p_array.shape[0]):\n",
    "    for j in range(p_array.shape[1]):\n",
    "        \n",
    "        x = [xx[i,j], yy[i,j]]\n",
    "        \n",
    "        p_array[i,j] = predictive_posterior_prob(x, mu_N, sigma_N)"
   ]
  },
  {
   "cell_type": "code",
   "execution_count": 15,
   "metadata": {},
   "outputs": [
    {
     "data": {
      "image/png": "[encoded data removed]",
      "text/plain": [
       "<Figure size 720x720 with 1 Axes>"
      ]
     },
     "metadata": {
      "needs_background": "light"
     },
     "output_type": "display_data"
    }
   ],
   "source": [
    "plt.figure(figsize=(10,10))\n",
    "plt.contourf(xx, yy, p_array, levels=20)\n",
    "plt.scatter(gaussian_1[:,0], gaussian_1[:,1], c='r')\n",
    "plt.scatter(gaussian_2[:,0], gaussian_2[:,1], c='g')\n",
    "\n",
    "plt.xlim(-10,10)\n",
    "plt.ylim(-10,10)\n",
    "plt.gca().set_aspect('equal', adjustable='box')\n",
    "plt.show()"
   ]
  }
 ],
 "metadata": {
  "kernelspec": {
   "display_name": "Python 3",
   "language": "python",
   "name": "python3"
  },
  "language_info": {
   "codemirror_mode": {
    "name": "ipython",
    "version": 3
   },
   "file_extension": ".py",
   "mimetype": "text/x-python",
   "name": "python",
   "nbconvert_exporter": "python",
   "pygments_lexer": "ipython3",
   "version": "3.6.12"
  }
 },
 "nbformat": 4,
 "nbformat_minor": 4
}
